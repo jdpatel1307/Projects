{
  "nbformat": 4,
  "nbformat_minor": 0,
  "metadata": {
    "colab": {
      "provenance": [],
      "authorship_tag": "ABX9TyPPD+8A1o0GI3UzfoEeHVom",
      "include_colab_link": true
    },
    "kernelspec": {
      "name": "python3",
      "display_name": "Python 3"
    },
    "language_info": {
      "name": "python"
    }
  },
  "cells": [
    {
      "cell_type": "markdown",
      "metadata": {
        "id": "view-in-github",
        "colab_type": "text"
      },
      "source": [
        "<a href=\"https://colab.research.google.com/github/jdpatel1307/Projects/blob/main/ETL_project_1.ipynb\" target=\"_parent\"><img src=\"https://colab.research.google.com/assets/colab-badge.svg\" alt=\"Open In Colab\"/></a>"
      ]
    },
    {
      "cell_type": "code",
      "execution_count": null,
      "metadata": {
        "colab": {
          "base_uri": "https://localhost:8080/"
        },
        "id": "1BagfMZWfBl3",
        "outputId": "d559ad06-d835-478f-e3de-09cd430b7489"
      },
      "outputs": [
        {
          "output_type": "stream",
          "name": "stdout",
          "text": [
            "Mounted at /content/gdrive\n"
          ]
        }
      ],
      "source": [
        "from google.colab import drive\n",
        "drive.mount(f'/content/gdrive')"
      ]
    },
    {
      "cell_type": "code",
      "source": [
        "import pandas as pd\n",
        "import numpy as np\n",
        "\n",
        "df = pd.read_csv(r'/content/gdrive/MyDrive/Projects/Linkfire/traffic.csv')\n",
        "\n",
        "df.head()"
      ],
      "metadata": {
        "colab": {
          "base_uri": "https://localhost:8080/",
          "height": 206
        },
        "id": "jMSSrq7zfQv0",
        "outputId": "e098d3e0-b8c3-427e-bd72-b99cca554b0a"
      },
      "execution_count": null,
      "outputs": [
        {
          "output_type": "execute_result",
          "data": {
            "text/plain": [
              "   event        date       country      city  \\\n",
              "0  click  2021-08-21  Saudi Arabia    Jeddah   \n",
              "1  click  2021-08-21  Saudi Arabia    Jeddah   \n",
              "2  click  2021-08-21         India  Ludhiana   \n",
              "3  click  2021-08-21        France   Unknown   \n",
              "4  click  2021-08-21      Maldives      Malé   \n",
              "\n",
              "                              artist          album          track  \\\n",
              "0                             Tesher    Jalebi Baby    Jalebi Baby   \n",
              "1                             Tesher    Jalebi Baby    Jalebi Baby   \n",
              "2                      Reyanna Maria      So Pretty      So Pretty   \n",
              "3  Simone & Simaria, Sebastian Yatra  No Llores Más  No Llores Más   \n",
              "4                             Tesher    Jalebi Baby    Jalebi Baby   \n",
              "\n",
              "           isrc                                linkid  \n",
              "0  QZNWQ2070741  2d896d31-97b6-4869-967b-1c5fb9cd4bb8  \n",
              "1  QZNWQ2070741  2d896d31-97b6-4869-967b-1c5fb9cd4bb8  \n",
              "2  USUM72100871  23199824-9cf5-4b98-942a-34965c3b0cc2  \n",
              "3  BRUM72003904  35573248-4e49-47c7-af80-08a960fa74cd  \n",
              "4  QZNWQ2070741  2d896d31-97b6-4869-967b-1c5fb9cd4bb8  "
            ],
            "text/html": [
              "\n",
              "  <div id=\"df-ac09e3f8-0c07-4718-8de4-73f10d15c85b\">\n",
              "    <div class=\"colab-df-container\">\n",
              "      <div>\n",
              "<style scoped>\n",
              "    .dataframe tbody tr th:only-of-type {\n",
              "        vertical-align: middle;\n",
              "    }\n",
              "\n",
              "    .dataframe tbody tr th {\n",
              "        vertical-align: top;\n",
              "    }\n",
              "\n",
              "    .dataframe thead th {\n",
              "        text-align: right;\n",
              "    }\n",
              "</style>\n",
              "<table border=\"1\" class=\"dataframe\">\n",
              "  <thead>\n",
              "    <tr style=\"text-align: right;\">\n",
              "      <th></th>\n",
              "      <th>event</th>\n",
              "      <th>date</th>\n",
              "      <th>country</th>\n",
              "      <th>city</th>\n",
              "      <th>artist</th>\n",
              "      <th>album</th>\n",
              "      <th>track</th>\n",
              "      <th>isrc</th>\n",
              "      <th>linkid</th>\n",
              "    </tr>\n",
              "  </thead>\n",
              "  <tbody>\n",
              "    <tr>\n",
              "      <th>0</th>\n",
              "      <td>click</td>\n",
              "      <td>2021-08-21</td>\n",
              "      <td>Saudi Arabia</td>\n",
              "      <td>Jeddah</td>\n",
              "      <td>Tesher</td>\n",
              "      <td>Jalebi Baby</td>\n",
              "      <td>Jalebi Baby</td>\n",
              "      <td>QZNWQ2070741</td>\n",
              "      <td>2d896d31-97b6-4869-967b-1c5fb9cd4bb8</td>\n",
              "    </tr>\n",
              "    <tr>\n",
              "      <th>1</th>\n",
              "      <td>click</td>\n",
              "      <td>2021-08-21</td>\n",
              "      <td>Saudi Arabia</td>\n",
              "      <td>Jeddah</td>\n",
              "      <td>Tesher</td>\n",
              "      <td>Jalebi Baby</td>\n",
              "      <td>Jalebi Baby</td>\n",
              "      <td>QZNWQ2070741</td>\n",
              "      <td>2d896d31-97b6-4869-967b-1c5fb9cd4bb8</td>\n",
              "    </tr>\n",
              "    <tr>\n",
              "      <th>2</th>\n",
              "      <td>click</td>\n",
              "      <td>2021-08-21</td>\n",
              "      <td>India</td>\n",
              "      <td>Ludhiana</td>\n",
              "      <td>Reyanna Maria</td>\n",
              "      <td>So Pretty</td>\n",
              "      <td>So Pretty</td>\n",
              "      <td>USUM72100871</td>\n",
              "      <td>23199824-9cf5-4b98-942a-34965c3b0cc2</td>\n",
              "    </tr>\n",
              "    <tr>\n",
              "      <th>3</th>\n",
              "      <td>click</td>\n",
              "      <td>2021-08-21</td>\n",
              "      <td>France</td>\n",
              "      <td>Unknown</td>\n",
              "      <td>Simone &amp; Simaria, Sebastian Yatra</td>\n",
              "      <td>No Llores Más</td>\n",
              "      <td>No Llores Más</td>\n",
              "      <td>BRUM72003904</td>\n",
              "      <td>35573248-4e49-47c7-af80-08a960fa74cd</td>\n",
              "    </tr>\n",
              "    <tr>\n",
              "      <th>4</th>\n",
              "      <td>click</td>\n",
              "      <td>2021-08-21</td>\n",
              "      <td>Maldives</td>\n",
              "      <td>Malé</td>\n",
              "      <td>Tesher</td>\n",
              "      <td>Jalebi Baby</td>\n",
              "      <td>Jalebi Baby</td>\n",
              "      <td>QZNWQ2070741</td>\n",
              "      <td>2d896d31-97b6-4869-967b-1c5fb9cd4bb8</td>\n",
              "    </tr>\n",
              "  </tbody>\n",
              "</table>\n",
              "</div>\n",
              "      <button class=\"colab-df-convert\" onclick=\"convertToInteractive('df-ac09e3f8-0c07-4718-8de4-73f10d15c85b')\"\n",
              "              title=\"Convert this dataframe to an interactive table.\"\n",
              "              style=\"display:none;\">\n",
              "        \n",
              "  <svg xmlns=\"http://www.w3.org/2000/svg\" height=\"24px\"viewBox=\"0 0 24 24\"\n",
              "       width=\"24px\">\n",
              "    <path d=\"M0 0h24v24H0V0z\" fill=\"none\"/>\n",
              "    <path d=\"M18.56 5.44l.94 2.06.94-2.06 2.06-.94-2.06-.94-.94-2.06-.94 2.06-2.06.94zm-11 1L8.5 8.5l.94-2.06 2.06-.94-2.06-.94L8.5 2.5l-.94 2.06-2.06.94zm10 10l.94 2.06.94-2.06 2.06-.94-2.06-.94-.94-2.06-.94 2.06-2.06.94z\"/><path d=\"M17.41 7.96l-1.37-1.37c-.4-.4-.92-.59-1.43-.59-.52 0-1.04.2-1.43.59L10.3 9.45l-7.72 7.72c-.78.78-.78 2.05 0 2.83L4 21.41c.39.39.9.59 1.41.59.51 0 1.02-.2 1.41-.59l7.78-7.78 2.81-2.81c.8-.78.8-2.07 0-2.86zM5.41 20L4 18.59l7.72-7.72 1.47 1.35L5.41 20z\"/>\n",
              "  </svg>\n",
              "      </button>\n",
              "      \n",
              "  <style>\n",
              "    .colab-df-container {\n",
              "      display:flex;\n",
              "      flex-wrap:wrap;\n",
              "      gap: 12px;\n",
              "    }\n",
              "\n",
              "    .colab-df-convert {\n",
              "      background-color: #E8F0FE;\n",
              "      border: none;\n",
              "      border-radius: 50%;\n",
              "      cursor: pointer;\n",
              "      display: none;\n",
              "      fill: #1967D2;\n",
              "      height: 32px;\n",
              "      padding: 0 0 0 0;\n",
              "      width: 32px;\n",
              "    }\n",
              "\n",
              "    .colab-df-convert:hover {\n",
              "      background-color: #E2EBFA;\n",
              "      box-shadow: 0px 1px 2px rgba(60, 64, 67, 0.3), 0px 1px 3px 1px rgba(60, 64, 67, 0.15);\n",
              "      fill: #174EA6;\n",
              "    }\n",
              "\n",
              "    [theme=dark] .colab-df-convert {\n",
              "      background-color: #3B4455;\n",
              "      fill: #D2E3FC;\n",
              "    }\n",
              "\n",
              "    [theme=dark] .colab-df-convert:hover {\n",
              "      background-color: #434B5C;\n",
              "      box-shadow: 0px 1px 3px 1px rgba(0, 0, 0, 0.15);\n",
              "      filter: drop-shadow(0px 1px 2px rgba(0, 0, 0, 0.3));\n",
              "      fill: #FFFFFF;\n",
              "    }\n",
              "  </style>\n",
              "\n",
              "      <script>\n",
              "        const buttonEl =\n",
              "          document.querySelector('#df-ac09e3f8-0c07-4718-8de4-73f10d15c85b button.colab-df-convert');\n",
              "        buttonEl.style.display =\n",
              "          google.colab.kernel.accessAllowed ? 'block' : 'none';\n",
              "\n",
              "        async function convertToInteractive(key) {\n",
              "          const element = document.querySelector('#df-ac09e3f8-0c07-4718-8de4-73f10d15c85b');\n",
              "          const dataTable =\n",
              "            await google.colab.kernel.invokeFunction('convertToInteractive',\n",
              "                                                     [key], {});\n",
              "          if (!dataTable) return;\n",
              "\n",
              "          const docLinkHtml = 'Like what you see? Visit the ' +\n",
              "            '<a target=\"_blank\" href=https://colab.research.google.com/notebooks/data_table.ipynb>data table notebook</a>'\n",
              "            + ' to learn more about interactive tables.';\n",
              "          element.innerHTML = '';\n",
              "          dataTable['output_type'] = 'display_data';\n",
              "          await google.colab.output.renderOutput(dataTable, element);\n",
              "          const docLink = document.createElement('div');\n",
              "          docLink.innerHTML = docLinkHtml;\n",
              "          element.appendChild(docLink);\n",
              "        }\n",
              "      </script>\n",
              "    </div>\n",
              "  </div>\n",
              "  "
            ]
          },
          "metadata": {},
          "execution_count": 2
        }
      ]
    },
    {
      "cell_type": "code",
      "source": [
        "df.info()"
      ],
      "metadata": {
        "colab": {
          "base_uri": "https://localhost:8080/"
        },
        "id": "XLsXTEfPfesk",
        "outputId": "c45ed1ce-66a2-4ce2-f088-0abe6ab599cc"
      },
      "execution_count": null,
      "outputs": [
        {
          "output_type": "stream",
          "name": "stdout",
          "text": [
            "<class 'pandas.core.frame.DataFrame'>\n",
            "RangeIndex: 226278 entries, 0 to 226277\n",
            "Data columns (total 9 columns):\n",
            " #   Column   Non-Null Count   Dtype \n",
            "---  ------   --------------   ----- \n",
            " 0   event    226278 non-null  object\n",
            " 1   date     226278 non-null  object\n",
            " 2   country  226267 non-null  object\n",
            " 3   city     226267 non-null  object\n",
            " 4   artist   226241 non-null  object\n",
            " 5   album    226273 non-null  object\n",
            " 6   track    226273 non-null  object\n",
            " 7   isrc     219157 non-null  object\n",
            " 8   linkid   226278 non-null  object\n",
            "dtypes: object(9)\n",
            "memory usage: 15.5+ MB\n"
          ]
        }
      ]
    },
    {
      "cell_type": "code",
      "source": [
        "df['date'] = pd.to_datetime(df['date'], format='%Y-%m-%d')\n",
        "\n",
        "df.info()"
      ],
      "metadata": {
        "colab": {
          "base_uri": "https://localhost:8080/"
        },
        "id": "S973d7pkfiSz",
        "outputId": "8028b4e2-5161-4c69-f993-bd587658a052"
      },
      "execution_count": null,
      "outputs": [
        {
          "output_type": "stream",
          "name": "stdout",
          "text": [
            "<class 'pandas.core.frame.DataFrame'>\n",
            "RangeIndex: 226278 entries, 0 to 226277\n",
            "Data columns (total 9 columns):\n",
            " #   Column   Non-Null Count   Dtype         \n",
            "---  ------   --------------   -----         \n",
            " 0   event    226278 non-null  object        \n",
            " 1   date     226278 non-null  datetime64[ns]\n",
            " 2   country  226267 non-null  object        \n",
            " 3   city     226267 non-null  object        \n",
            " 4   artist   226241 non-null  object        \n",
            " 5   album    226273 non-null  object        \n",
            " 6   track    226273 non-null  object        \n",
            " 7   isrc     219157 non-null  object        \n",
            " 8   linkid   226278 non-null  object        \n",
            "dtypes: datetime64[ns](1), object(8)\n",
            "memory usage: 15.5+ MB\n"
          ]
        }
      ]
    },
    {
      "cell_type": "code",
      "source": [
        "df.isnull().sum()"
      ],
      "metadata": {
        "colab": {
          "base_uri": "https://localhost:8080/"
        },
        "id": "IjxsKK_Df1X7",
        "outputId": "fd650852-c966-429e-82c5-56871cc56faf"
      },
      "execution_count": null,
      "outputs": [
        {
          "output_type": "execute_result",
          "data": {
            "text/plain": [
              "event         0\n",
              "date          0\n",
              "country      11\n",
              "city         11\n",
              "artist       37\n",
              "album         5\n",
              "track         5\n",
              "isrc       7121\n",
              "linkid        0\n",
              "dtype: int64"
            ]
          },
          "metadata": {},
          "execution_count": 8
        }
      ]
    },
    {
      "cell_type": "code",
      "source": [
        "df['event'].unique()"
      ],
      "metadata": {
        "colab": {
          "base_uri": "https://localhost:8080/"
        },
        "id": "dHsy_KI9gEtL",
        "outputId": "1aaa1ead-0e78-42c0-e713-c53a84040bf2"
      },
      "execution_count": null,
      "outputs": [
        {
          "output_type": "execute_result",
          "data": {
            "text/plain": [
              "array(['click', 'preview', 'pageview'], dtype=object)"
            ]
          },
          "metadata": {},
          "execution_count": 9
        }
      ]
    },
    {
      "cell_type": "code",
      "source": [
        "len(df['linkid'].unique())"
      ],
      "metadata": {
        "colab": {
          "base_uri": "https://localhost:8080/"
        },
        "id": "Gfy1dsVbg78U",
        "outputId": "a3a595ab-ac58-466b-e7f4-909e19a129e6"
      },
      "execution_count": null,
      "outputs": [
        {
          "output_type": "execute_result",
          "data": {
            "text/plain": [
              "3839"
            ]
          },
          "metadata": {},
          "execution_count": 11
        }
      ]
    },
    {
      "cell_type": "code",
      "source": [
        "#How many total pageview events did the links in the provided dataset receive in the full period?\n",
        "\n",
        "pageview_events=(df\n",
        "                .loc[df['event']=='pageview']\n",
        "                ['event']\n",
        "                .count())\n",
        "\n",
        "print(f'The total number of pageview events in the dataset is {pageview_events}, which is around {round(pageview_events * 100 / 226278, 2)}% of all the events')"
      ],
      "metadata": {
        "colab": {
          "base_uri": "https://localhost:8080/"
        },
        "id": "sX788u1IiYt-",
        "outputId": "d0c06bae-a4a1-4a90-86b0-4d80af67ac1a"
      },
      "execution_count": null,
      "outputs": [
        {
          "output_type": "stream",
          "name": "stdout",
          "text": [
            "The total number of pageview events in the dataset is 142015, which is around 62.76% of all the events\n"
          ]
        }
      ]
    },
    {
      "cell_type": "code",
      "source": [
        "#How many total pageview events did the links in the provided dataset receive per day?\n",
        "\n",
        "no_uniqe_days = (df\n",
        "                 ['date']\n",
        "                 .nunique())\n",
        "\n",
        "print(f'The total pageview events per day is {round(pageview_events / no_uniqe_days)}')"
      ],
      "metadata": {
        "colab": {
          "base_uri": "https://localhost:8080/"
        },
        "id": "BvOae-QHj_Qk",
        "outputId": "a61ca563-b110-44a3-f587-5ca7841f84a0"
      },
      "execution_count": null,
      "outputs": [
        {
          "output_type": "stream",
          "name": "stdout",
          "text": [
            "The total pageview events per day is 20288\n"
          ]
        }
      ]
    },
    {
      "cell_type": "code",
      "source": [
        "# What about the other recorded events?\n",
        "\n",
        "# For click event\n",
        "\n",
        "click_events=(df\n",
        "              .loc[df['event']=='click']\n",
        "              ['event']\n",
        "              .count())\n",
        "\n",
        "print(f'The total number of click events in the dataset is {click_events}, which is around {round(click_events * 100 / 226278, 2)}% of all the events')\n",
        "print(f'The total click events per day is {round(click_events / no_uniqe_days)}')"
      ],
      "metadata": {
        "colab": {
          "base_uri": "https://localhost:8080/"
        },
        "id": "uZ6JmfLFlDs-",
        "outputId": "ef6a38da-1dd0-48a2-b71e-c362844e8ae5"
      },
      "execution_count": null,
      "outputs": [
        {
          "output_type": "stream",
          "name": "stdout",
          "text": [
            "The total number of click events in the dataset is 55732, which is around 24.63% of all the events\n",
            "The total click events per day is 7962\n"
          ]
        }
      ]
    },
    {
      "cell_type": "code",
      "source": [
        "# For preview event\n",
        "\n",
        "preview_events=(df\n",
        "                .loc[df['event']=='preview']\n",
        "                ['event']\n",
        "                .count())\n",
        "\n",
        "print(f'The total number of preview events in the dataset is {preview_events}, which is around {round(preview_events * 100 / 226278, 2)}% of all the events')\n",
        "print(f'The total preview events per day is {round(preview_events / no_uniqe_days)}')"
      ],
      "metadata": {
        "colab": {
          "base_uri": "https://localhost:8080/"
        },
        "id": "ncK3l0_iloOY",
        "outputId": "b516ca6a-f94f-461f-f3bc-128d9f41158e"
      },
      "execution_count": null,
      "outputs": [
        {
          "output_type": "stream",
          "name": "stdout",
          "text": [
            "The total number of preview events in the dataset is 28531, which is around 12.61% of all the events\n",
            "The total preview events per day is 4076\n"
          ]
        }
      ]
    },
    {
      "cell_type": "code",
      "source": [
        "(df\n",
        " ['event']\n",
        " .value_counts()\n",
        " .plot\n",
        " .bar(x='event', y='#_events'))"
      ],
      "metadata": {
        "colab": {
          "base_uri": "https://localhost:8080/",
          "height": 500
        },
        "id": "1ynE_LwDluH-",
        "outputId": "08606c4a-541a-4b30-b21e-f17af8d49064"
      },
      "execution_count": null,
      "outputs": [
        {
          "output_type": "execute_result",
          "data": {
            "text/plain": [
              "<Axes: >"
            ]
          },
          "metadata": {},
          "execution_count": 29
        },
        {
          "output_type": "display_data",
          "data": {
            "text/plain": [
              "<Figure size 640x480 with 1 Axes>"
            ],
            "image/png": "[encoded data removed]"
          },
          "metadata": {}
        }
      ]
    },
    {
      "cell_type": "code",
      "source": [
        "# Which countries did the pageviews come from?\n",
        "(df\n",
        " .loc[df['event']=='pageview']\n",
        " .country\n",
        " .unique())"
      ],
      "metadata": {
        "colab": {
          "base_uri": "https://localhost:8080/"
        },
        "id": "JAOsgGOSl4BW",
        "outputId": "f7a9ab82-e80c-4dfb-ef29-1248ccebc98b"
      },
      "execution_count": null,
      "outputs": [
        {
          "output_type": "execute_result",
          "data": {
            "text/plain": [
              "array(['Saudi Arabia', 'United States', 'Ireland', 'United Kingdom',\n",
              "       'France', 'Guatemala', 'Jordan', 'Kuwait', 'Pakistan', 'Italy',\n",
              "       'Germany', 'Iraq', 'Peru', 'India', 'Nicaragua', 'Rwanda',\n",
              "       'Tanzania', 'United Arab Emirates', 'Norway', 'Oman', 'Bahamas',\n",
              "       'Algeria', 'Czechia', 'Mexico', 'Jamaica', 'Netherlands',\n",
              "       'Colombia', 'Morocco', 'Australia', 'Myanmar', 'Uzbekistan',\n",
              "       'Austria', 'Latvia', 'Turkey', 'Mauritania', 'Sri Lanka',\n",
              "       'Bosnia and Herzegovina', 'Estonia', 'Nigeria', 'Bulgaria',\n",
              "       'Greece', 'El Salvador', 'Philippines', 'Denmark', 'Serbia',\n",
              "       'Canada', 'Spain', 'Libya', 'Palestine', 'Chad', 'Ecuador', 'Mali',\n",
              "       'Romania', 'Switzerland', 'Portugal', 'Slovenia', 'Iceland',\n",
              "       'Sweden', 'Bahrain', 'Egypt', 'Lithuania', 'Liberia', 'Israel',\n",
              "       'Ukraine', 'Puerto Rico', 'South Africa', 'Ghana', 'Kenya',\n",
              "       'Armenia', 'Nepal', 'Barbados', 'Azerbaijan', 'Qatar', 'Uganda',\n",
              "       'Poland', 'Brazil', 'Guyana', 'Fiji', 'Bangladesh', 'Belgium',\n",
              "       'Hong Kong', 'Haiti', 'Botswana', 'Ivory Coast', 'Bhutan',\n",
              "       'Indonesia', 'Réunion', 'Cameroon', 'Singapore', 'Yemen',\n",
              "       'French Guiana', 'Slovakia', 'Dominican Republic', 'Russia',\n",
              "       'Cabo Verde', 'Kyrgyzstan', 'New Zealand', 'U.S. Virgin Islands',\n",
              "       'Albania', 'Venezuela', 'Burkina Faso', 'Montenegro', 'Paraguay',\n",
              "       'Bolivia', 'Cyprus', 'Mayotte', 'Thailand', 'Maldives', 'Tunisia',\n",
              "       'Namibia', 'Costa Rica', 'Croatia', 'Trinidad and Tobago',\n",
              "       'Senegal', 'Suriname', 'Malaysia', 'Honduras', 'DR Congo',\n",
              "       'South Korea', 'Finland', 'Mozambique', 'Hungary', 'Kazakhstan',\n",
              "       'Zambia', 'Somalia', 'Moldova', 'Cayman Islands',\n",
              "       'Saint Vincent and the Grenadines', 'Martinique', 'Guadeloupe',\n",
              "       'Kosovo', 'Sudan', 'Saint Lucia', 'Uruguay', nan, 'Mauritius',\n",
              "       'Aruba', 'Curaçao', 'British Virgin Islands', 'Vietnam', 'Laos',\n",
              "       'Sierra Leone', 'Seychelles', 'Guinea', 'Lebanon', 'Angola',\n",
              "       'Belize', 'Togo', 'Turks and Caicos Islands', 'Georgia', 'Gabon',\n",
              "       'Argentina', 'North Macedonia', 'Benin', 'Ethiopia', 'Niger',\n",
              "       'Zimbabwe', 'St Kitts and Nevis', 'Malawi', 'Chile', 'Madagascar',\n",
              "       'Panama', 'Luxembourg', 'Grenada', 'Greenland', 'Mongolia',\n",
              "       'Taiwan', 'Liechtenstein', 'Anguilla', 'Principality of Monaco',\n",
              "       'Djibouti', 'Samoa', 'Åland', 'Eswatini', 'Faroe Islands',\n",
              "       'Cambodia', 'China', 'French Polynesia', 'Papua New Guinea',\n",
              "       'Japan', 'Lesotho', 'Eritrea', 'Iran', 'Antigua and Barbuda',\n",
              "       'Burundi', 'Belarus', 'Guinea-Bissau', 'Bermuda', 'Gambia',\n",
              "       'Isle of Man', 'American Samoa', 'Tajikistan', 'Comoros', 'Jersey',\n",
              "       'Andorra', 'Brunei', 'Congo Republic', 'Syria', 'Dominica',\n",
              "       'New Caledonia', 'Marshall Islands', 'Macao', 'Gibraltar', 'Palau',\n",
              "       'Solomon Islands', 'Malta', 'Wallis and Futuna', 'Afghanistan',\n",
              "       'Central African Republic', 'Guernsey', 'Sint Maarten',\n",
              "       'Saint Martin'], dtype=object)"
            ]
          },
          "metadata": {},
          "execution_count": 30
        }
      ]
    },
    {
      "cell_type": "code",
      "source": [
        "# What was the overall click rate (clicks/pageviews)?\n",
        "\n",
        "print(f'The overall click rate is {round(click_events*100/pageview_events, 2)}%')"
      ],
      "metadata": {
        "colab": {
          "base_uri": "https://localhost:8080/"
        },
        "id": "VVQfQp5cmVnn",
        "outputId": "6920c086-4130-49fb-b66c-1119f7309e06"
      },
      "execution_count": null,
      "outputs": [
        {
          "output_type": "stream",
          "name": "stdout",
          "text": [
            "The overall click rate is 39.24%\n"
          ]
        }
      ]
    },
    {
      "cell_type": "code",
      "source": [
        "# How does the clickrate distribute across different links?\n",
        "\n",
        "no_click_event=(df\n",
        "                .loc[df['event']=='click']\n",
        "                .groupby('linkid')\n",
        "                .event\n",
        "                .count()\n",
        "                .to_frame('click_events')\n",
        "                .reset_index())\n",
        "\n",
        "no_pageview_event=(df\n",
        "                  .loc[df['event']=='pageview']\n",
        "                  .groupby('linkid')\n",
        "                  .event\n",
        "                  .count()\n",
        "                  .to_frame('pageview_events')\n",
        "                  .reset_index())\n",
        "\n",
        "new_df = pd.merge(no_click_event, no_pageview_event, on='linkid')\n",
        "\n",
        "new_df['click_rate'] = round(new_df['click_events'] / new_df['pageview_events'])\n",
        "\n",
        "new_df.set_index('linkid', inplace=True)\n",
        "\n",
        "(new_df\n",
        " .click_rate\n",
        " .value_counts()\n",
        " .reset_index()\n",
        " .sort_values(by='index')\n",
        " .plot\n",
        " .bar(x='index', y='click_rate'))"
      ],
      "metadata": {
        "colab": {
          "base_uri": "https://localhost:8080/",
          "height": 483
        },
        "id": "lSVrh--vmq2G",
        "outputId": "8dc8d7ee-d5ad-4f92-eb4a-2dc905eea085"
      },
      "execution_count": null,
      "outputs": [
        {
          "output_type": "execute_result",
          "data": {
            "text/plain": [
              "<Axes: xlabel='index'>"
            ]
          },
          "metadata": {},
          "execution_count": 65
        },
        {
          "output_type": "display_data",
          "data": {
            "text/plain": [
              "<Figure size 640x480 with 1 Axes>"
            ],
            "image/png": "[encoded data removed]"
          },
          "metadata": {}
        }
      ]
    }
  ]
}